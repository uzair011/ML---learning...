{
  "nbformat": 4,
  "nbformat_minor": 0,
  "metadata": {
    "colab": {
      "provenance": [],
      "authorship_tag": "ABX9TyMuifNJZyLNLnq/Aut/5Dk5",
      "include_colab_link": true
    },
    "kernelspec": {
      "name": "python3",
      "display_name": "Python 3"
    },
    "language_info": {
      "name": "python"
    }
  },
  "cells": [
    {
      "cell_type": "markdown",
      "metadata": {
        "id": "view-in-github",
        "colab_type": "text"
      },
      "source": [
        "<a href=\"https://colab.research.google.com/github/uzair011/ML---learning.../blob/main/seolBikes_regression.ipynb\" target=\"_parent\"><img src=\"https://colab.research.google.com/assets/colab-badge.svg\" alt=\"Open In Colab\"/></a>"
      ]
    },
    {
      "cell_type": "markdown",
      "source": [
        "**The** dataset contains count of public bikes rented at each hour in Seoul Bike haring System with the corresponding Weather data and Holidays information\n",
        "\n",
        "\n",
        "###Dataset: \n",
        "https://archive.ics.uci.edu/ml/datasets/Seoul+Bike+Sharing+Demand#\n",
        "\n",
        "Source: Data Source :http://data.seoul.go.kr/\n",
        "SOUTH KOREA PUBLIC HOLIDAYS. URL: publicholidays.go.kr\n",
        "\n"
      ],
      "metadata": {
        "id": "nPDZxFnXPwNV"
      }
    },
    {
      "cell_type": "code",
      "source": [
        "import numpy as np\n",
        "import pandas as pd\n",
        "import matplotlib.pyplot as plt\n",
        "from sklearn.preprocessing import StandardScaler\n",
        "from imblearn.over_sampling import RandomOverSampler\n",
        "import copy\n",
        "import seaborn as sns\n",
        "import tensorflow as tf\n",
        "from sklearn.linear_model import LinearRegression\n"
      ],
      "metadata": {
        "id": "7-SCeEnkQ9cF"
      },
      "execution_count": 1,
      "outputs": []
    },
    {
      "cell_type": "code",
      "source": [
        "dataset_cols = [\"bike_count\", \"hour\", \"temp\", \"humidity\", \"wind\", \"visibility\", \"dew_pt_temp\", \"radiation\", \"rain\", \"snow\", \"functional\"]"
      ],
      "metadata": {
        "id": "KTnpj4tDRSuB"
      },
      "execution_count": 2,
      "outputs": []
    }
  ]
}